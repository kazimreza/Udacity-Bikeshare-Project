{
 "cells": [
  {
   "cell_type": "code",
   "execution_count": 24,
   "metadata": {},
   "outputs": [],
   "source": [
    "# Importing all the necessary frameworks to perform the data calculations and manipulations"
   ]
  },
  {
   "cell_type": "code",
   "execution_count": 25,
   "metadata": {},
   "outputs": [],
   "source": [
    "import time\n",
    "import pandas as pd\n",
    "import numpy as np\n",
    "import matplotlib.pyplot as plt\n",
    "import datetime\n",
    "import calendar"
   ]
  },
  {
   "cell_type": "code",
   "execution_count": 26,
   "metadata": {},
   "outputs": [],
   "source": [
    "# Program Exit Funtion"
   ]
  },
  {
   "cell_type": "code",
   "execution_count": 27,
   "metadata": {},
   "outputs": [],
   "source": [
    "def thankYou():\n",
    "\n",
    "    exit(print(\"Thank you for Exploring US Bikeshare Data\"))"
   ]
  },
  {
   "cell_type": "code",
   "execution_count": 28,
   "metadata": {},
   "outputs": [],
   "source": [
    "# 'get_filters' function allows the all the right city, month, and day filters"
   ]
  },
  {
   "cell_type": "code",
   "execution_count": 29,
   "metadata": {},
   "outputs": [],
   "source": [
    "def get_filters():\n",
    "    \n",
    "    print('\\nHello! Let\\'s explore some US bikeshare data!\\n')\n",
    "    cities = ['Chicago','New York','Washington']\n",
    "    months = ['January','Feburary','March','April','May','June','All']\n",
    "    days_of_week = ['Monday','Tuesday','Wednesday','Thursday','Friday','Saturday','Sunday','All']\n",
    "    selection = ['Yes', 'No', 'Exit']\n",
    "\n",
    "    while True:\n",
    "        city = input('\\nWhich city\\'s data do you want to take a look at? \\\"Chicago\\\", \\\"New York\\\" or \\\"Washington\\\"? \\n')\n",
    "        if city.title() in cities:\n",
    "            print('\\nYou entered {}.'.format(city.title()))\n",
    "            break\n",
    "\n",
    "\n",
    "    while True: # ask for month filter input with input value check(all, january, february, ... , june)\n",
    "        month = input('\\nDo you want to look at a specific month? You can pick data from January to June. If you need data for all months, just enter All. \\n')\n",
    "        if month.title() in months:\n",
    "            print('\\nYou entered {}.'.format(month.title()))\n",
    "            break\n",
    "           \n",
    "    while True: # ask for day filter input with input value check (all, monday,...,sunday)\n",
    "        day = input('\\nDo you want to look at a specific day of week? If you need to look at all week, just enter All\\n')\n",
    "        if day.title() in days_of_week:\n",
    "            print('\\nYou entered {}.'.format(day.title()))\n",
    "            break\n",
    "    print(\"Yo have selected:\\n City = \" + city.upper() + \"\\n Month = \" + month.upper() + \"\\n Day = \" + day.upper())\n",
    "    while True:\n",
    "        select = input('\\nIs the above selection correct? (please enter \\\"Yes\\\", \\\"No\\\", or \\\"Exit\\\"')\n",
    "        if select.title() in selection:\n",
    "\n",
    "            if select.title() == \"Yes\":\n",
    "                print(\"Below is the requested data\")\n",
    "                break\n",
    "            elif select.title() == \"No\":\n",
    "                main()\n",
    "            elif select.title() == \"Exit\":\n",
    "                thankYou()\n",
    "            else:\n",
    "                print('\\nEntry not recognized! Please try again!\\n')\n",
    "\n",
    "\n",
    "            break\n",
    "\n",
    "\n",
    "\n",
    "    if city.lower() == \"new york\":\n",
    "        city = \"new_york_city.csv\"\n",
    "    else:\n",
    "        city = city + \".csv\"\n",
    "\n",
    "\n",
    "    print('\\033[1;31m=\\033[1;m'*40)\n",
    "    return city, month, day"
   ]
  },
  {
   "cell_type": "code",
   "execution_count": 30,
   "metadata": {},
   "outputs": [],
   "source": [
    "# Loading data for selected (city, month, & day) filters"
   ]
  },
  {
   "cell_type": "code",
   "execution_count": 31,
   "metadata": {},
   "outputs": [],
   "source": [
    "def load_data(city, month, day):\n",
    "   \n",
    "    df = pd.read_csv(city)\n",
    "\n",
    "    # Start Time column => datetime\n",
    "    df['Start Time'] = pd.to_datetime(df['Start Time'])\n",
    "\n",
    "    # Extracting month and day from Start Time => new columns\n",
    "    df['month'] = df['Start Time'].dt.month\n",
    "    df['day_of_week'] = df['Start Time'].dt.weekday_name\n",
    "\n",
    "    # Month filter\n",
    "    if month != 'all':\n",
    "        months = ['january', 'february', 'march', 'april', 'may', 'june']\n",
    "        month = months.index(month) + 1\n",
    "\n",
    "        df = df[df['month'] == month]\n",
    "\n",
    "    # Day filter\n",
    "    if day != 'all':\n",
    " \n",
    "        df = df[df['day_of_week'] == day.title()]\n",
    " #       plt.df\n",
    "        \n",
    "    return df"
   ]
  },
  {
   "cell_type": "code",
   "execution_count": 32,
   "metadata": {},
   "outputs": [],
   "source": [
    "# Most frequent and common time frame stats"
   ]
  },
  {
   "cell_type": "code",
   "execution_count": 33,
   "metadata": {},
   "outputs": [],
   "source": [
    "def time_stats(df):\n",
    "\n",
    "    print('\\nCalculating The Most Frequent Times of Travel...\\n')\n",
    "    start_time = time.time()\n",
    "\n",
    "    df['Start Time'] = pd.to_datetime(df['Start Time'])\n",
    "\n",
    "    # Most common month\n",
    "    df['Month'] = df['Start Time'].dt.month\n",
    "    common_month = df['Month'].mode()[0]\n",
    "\n",
    "    # Most common day of week\n",
    "    df['day_of_week'] = df['Start Time'].dt.day\n",
    "    common_day = df['day_of_week'].mode()[0]\n",
    "   \n",
    "    # Most common start hour\n",
    "    df['hour'] = df['Start Time'].dt.hour\n",
    "    common_hour = df['hour'].mode()[0]\n",
    "\n",
    "    print('Most common month: ', calendar.month_name[common_month])\n",
    "    print('Most common day: ', common_day)\n",
    "    print('Most popular hour: ', common_hour)\n",
    "\n",
    "    print('\\033[1;48m\\nThis took %s seconds.\\033[1;m' % (time.time() - start_time))\n",
    "    print('\\033[1;31m=\\033[1;m'*40)"
   ]
  },
  {
   "cell_type": "code",
   "execution_count": 34,
   "metadata": {},
   "outputs": [],
   "source": [
    "# Popular stations and trips stats "
   ]
  },
  {
   "cell_type": "code",
   "execution_count": 35,
   "metadata": {},
   "outputs": [],
   "source": [
    "def station_stats(df):\n",
    "\n",
    "    print('\\nCalculating The Most Popular Stations and Trip...\\n')\n",
    "    start_time = time.time()\n",
    "\n",
    "    # Most common start station\n",
    "    df['common_start'] = df['Start Station']\n",
    "\n",
    "    common_Start = df['common_start'].mode()[0]\n",
    "    print ('The most common start station is: ', common_Start)\n",
    "\n",
    "    # Most common end station\n",
    "    df['common_end'] = df['End Station']\n",
    "    common_end = df['common_end'].mode()[0]\n",
    "    print('The most common end station is: ', common_end)\n",
    "\n",
    "    # Most frequent start and end station trip\n",
    "    common_trip = df['common_start'] + ' to ' + df['common_end']\n",
    "    print('The most common trip is: ', common_trip.mode()[0])\n",
    "\n",
    "    print('\\033[1;48m\\nThis took %s seconds.\\033[1;m' % (time.time() - start_time))\n",
    "    print('\\033[1;31m=\\033[1;m'*40)"
   ]
  },
  {
   "cell_type": "code",
   "execution_count": 36,
   "metadata": {},
   "outputs": [],
   "source": [
    "# Trip duration stats"
   ]
  },
  {
   "cell_type": "code",
   "execution_count": 37,
   "metadata": {},
   "outputs": [],
   "source": [
    "def trip_duration_stats(df):\n",
    "\n",
    "    print('\\nCalculating Trip Duration...\\n')\n",
    "\n",
    "    start_time = time.time()\n",
    "    # Total travel time\n",
    "        # Start trip time\n",
    "    trip_start = pd.to_datetime(df['Start Time'])\n",
    "        # End trip time\n",
    "    trip_end = pd.to_datetime(df['End Time'])\n",
    "    # Total trip time => new column\n",
    "    df['Trip Total Time'] = trip_start - trip_end\n",
    "    # Sum of total trip time column\n",
    "    total_time =  df['Trip Total Time'].sum()\n",
    "    print(\"The total amount of time for a trip is: \" + str(total_time))\n",
    "\n",
    "    # Mean travel time\n",
    "    mean_time = df['Trip Duration'].mean()\n",
    "    print(\"The average time of a trip is: \" + str(mean_time))\n",
    "\n",
    "    print('\\033[1;48m\\nThis took %s seconds.\\033[1;m' % (time.time() - start_time))\n",
    "    print('\\033[1;31m=\\033[1;m'*40)"
   ]
  },
  {
   "cell_type": "code",
   "execution_count": 38,
   "metadata": {},
   "outputs": [],
   "source": [
    "# User stats"
   ]
  },
  {
   "cell_type": "code",
   "execution_count": 39,
   "metadata": {},
   "outputs": [],
   "source": [
    "def user_stats(df):\n",
    "\n",
    "    print('\\nCalculating User Stats...\\n')\n",
    "    start_time = time.time()\n",
    "\n",
    "    # User types\n",
    "    user_type = df['User Type'].value_counts()\n",
    "\n",
    "    # Gender\n",
    "    gender = df['Gender'].value_counts()\n",
    "\n",
    "    # Birth years - earliest and most common\n",
    "    earliest_year = df.sort_values('Birth Year').iloc[0]\n",
    "    common_year = df['Birth Year'].mode()[0]\n",
    "\n",
    "    print('Count of user types: ', user_type)\n",
    "    print('\\033[1;34m-\\033[1;m'*20)\n",
    "    print('Count of gender: ', gender)\n",
    "    print('\\033[1;34m-\\033[1;m'*20)\n",
    "    print('Oldest person to rent: ', earliest_year['Birth Year'])\n",
    "    print('\\033[1;34m-\\033[1;m'*20)\n",
    "    print('Most common birth year: ', common_year)\n",
    "    print('\\033[1;34m-\\033[1;m'*20)\n",
    "    print(\"\\nThis took %s seconds.\" % (time.time() - start_time))\n",
    "    print('\\033[1;31m=\\033[1;m'*40)"
   ]
  },
  {
   "cell_type": "code",
   "execution_count": 40,
   "metadata": {},
   "outputs": [],
   "source": [
    "# Additional data (next 5) funtion"
   ]
  },
  {
   "cell_type": "code",
   "execution_count": 41,
   "metadata": {},
   "outputs": [],
   "source": [
    "def display_data(df):\n",
    "    view_data = input('Would you like to see the next five rows of data? Yes or No: ')\n",
    "    view_data = view_data.lower()\n",
    "\n",
    "    if view_data == 'yes':\n",
    "        print(df.head(5))\n",
    "        display_data(df)\n",
    "    else:\n",
    "        thankYou()"
   ]
  },
  {
   "cell_type": "code",
   "execution_count": 42,
   "metadata": {},
   "outputs": [],
   "source": [
    "# Main funtions => runs all functions inorder"
   ]
  },
  {
   "cell_type": "code",
   "execution_count": 43,
   "metadata": {},
   "outputs": [],
   "source": [
    "def main():\n",
    "    while True:\n",
    "        city, month, day = get_filters()\n",
    "        df = load_data(city, month, day)\n",
    "\n",
    "        time_stats(df)\n",
    "        station_stats(df)\n",
    "        trip_duration_stats(df)\n",
    "        user_stats(df)\n",
    "        display_data(df)\n",
    "\n",
    "\n",
    "        restart = input('\\nWould you like to restart? Enter yes or no.\\n')\n",
    "        if restart.lower() == 'yes':\n",
    "            main()\n",
    "        else:\n",
    "            thankYou()\n",
    "            break"
   ]
  },
  {
   "cell_type": "code",
   "execution_count": 44,
   "metadata": {},
   "outputs": [],
   "source": [
    "# Program starts"
   ]
  },
  {
   "cell_type": "code",
   "execution_count": null,
   "metadata": {},
   "outputs": [
    {
     "name": "stdout",
     "output_type": "stream",
     "text": [
      "\n",
      "Hello! Let's explore some US bikeshare data!\n",
      "\n",
      "\n",
      "Which city's data do you want to take a look at? \"Chicago\", \"New York\" or \"Washington\"? \n",
      "new york\n",
      "\n",
      "You entered New York.\n",
      "\n",
      "Do you want to look at a specific month? You can pick data from January to June. If you need data for all months, just enter All. \n",
      "june\n",
      "\n",
      "You entered June.\n",
      "\n",
      "Do you want to look at a specific day of week? If you need to look at all week, just enter All\n",
      "monday\n",
      "\n",
      "You entered Monday.\n",
      "Yo have selected:\n",
      " City = NEW YORK\n",
      " Month = JUNE\n",
      " Day = MONDAY\n",
      "\n",
      "Is the above selection correct? (please enter \"Yes\", \"No\", or \"Exit\"yes\n",
      "Below is the requested data\n",
      "\u001b[1;31m=\u001b[1;m\u001b[1;31m=\u001b[1;m\u001b[1;31m=\u001b[1;m\u001b[1;31m=\u001b[1;m\u001b[1;31m=\u001b[1;m\u001b[1;31m=\u001b[1;m\u001b[1;31m=\u001b[1;m\u001b[1;31m=\u001b[1;m\u001b[1;31m=\u001b[1;m\u001b[1;31m=\u001b[1;m\u001b[1;31m=\u001b[1;m\u001b[1;31m=\u001b[1;m\u001b[1;31m=\u001b[1;m\u001b[1;31m=\u001b[1;m\u001b[1;31m=\u001b[1;m\u001b[1;31m=\u001b[1;m\u001b[1;31m=\u001b[1;m\u001b[1;31m=\u001b[1;m\u001b[1;31m=\u001b[1;m\u001b[1;31m=\u001b[1;m\u001b[1;31m=\u001b[1;m\u001b[1;31m=\u001b[1;m\u001b[1;31m=\u001b[1;m\u001b[1;31m=\u001b[1;m\u001b[1;31m=\u001b[1;m\u001b[1;31m=\u001b[1;m\u001b[1;31m=\u001b[1;m\u001b[1;31m=\u001b[1;m\u001b[1;31m=\u001b[1;m\u001b[1;31m=\u001b[1;m\u001b[1;31m=\u001b[1;m\u001b[1;31m=\u001b[1;m\u001b[1;31m=\u001b[1;m\u001b[1;31m=\u001b[1;m\u001b[1;31m=\u001b[1;m\u001b[1;31m=\u001b[1;m\u001b[1;31m=\u001b[1;m\u001b[1;31m=\u001b[1;m\u001b[1;31m=\u001b[1;m\u001b[1;31m=\u001b[1;m\n",
      "\n",
      "Calculating The Most Frequent Times of Travel...\n",
      "\n",
      "Most common month:  June\n",
      "Most common day:  26\n",
      "Most popular hour:  8\n",
      "\u001b[1;48m\n",
      "This took 0.04323005676269531 seconds.\u001b[1;m\n",
      "\u001b[1;31m=\u001b[1;m\u001b[1;31m=\u001b[1;m\u001b[1;31m=\u001b[1;m\u001b[1;31m=\u001b[1;m\u001b[1;31m=\u001b[1;m\u001b[1;31m=\u001b[1;m\u001b[1;31m=\u001b[1;m\u001b[1;31m=\u001b[1;m\u001b[1;31m=\u001b[1;m\u001b[1;31m=\u001b[1;m\u001b[1;31m=\u001b[1;m\u001b[1;31m=\u001b[1;m\u001b[1;31m=\u001b[1;m\u001b[1;31m=\u001b[1;m\u001b[1;31m=\u001b[1;m\u001b[1;31m=\u001b[1;m\u001b[1;31m=\u001b[1;m\u001b[1;31m=\u001b[1;m\u001b[1;31m=\u001b[1;m\u001b[1;31m=\u001b[1;m\u001b[1;31m=\u001b[1;m\u001b[1;31m=\u001b[1;m\u001b[1;31m=\u001b[1;m\u001b[1;31m=\u001b[1;m\u001b[1;31m=\u001b[1;m\u001b[1;31m=\u001b[1;m\u001b[1;31m=\u001b[1;m\u001b[1;31m=\u001b[1;m\u001b[1;31m=\u001b[1;m\u001b[1;31m=\u001b[1;m\u001b[1;31m=\u001b[1;m\u001b[1;31m=\u001b[1;m\u001b[1;31m=\u001b[1;m\u001b[1;31m=\u001b[1;m\u001b[1;31m=\u001b[1;m\u001b[1;31m=\u001b[1;m\u001b[1;31m=\u001b[1;m\u001b[1;31m=\u001b[1;m\u001b[1;31m=\u001b[1;m\u001b[1;31m=\u001b[1;m\n",
      "\n",
      "Calculating The Most Popular Stations and Trip...\n",
      "\n",
      "The most common start station is:  Pershing Square North\n",
      "The most common end station is:  Pershing Square North\n",
      "The most common trip is:  12 Ave & W 40 St to West St & Chambers St\n",
      "\u001b[1;48m\n",
      "This took 0.14188504219055176 seconds.\u001b[1;m\n",
      "\u001b[1;31m=\u001b[1;m\u001b[1;31m=\u001b[1;m\u001b[1;31m=\u001b[1;m\u001b[1;31m=\u001b[1;m\u001b[1;31m=\u001b[1;m\u001b[1;31m=\u001b[1;m\u001b[1;31m=\u001b[1;m\u001b[1;31m=\u001b[1;m\u001b[1;31m=\u001b[1;m\u001b[1;31m=\u001b[1;m\u001b[1;31m=\u001b[1;m\u001b[1;31m=\u001b[1;m\u001b[1;31m=\u001b[1;m\u001b[1;31m=\u001b[1;m\u001b[1;31m=\u001b[1;m\u001b[1;31m=\u001b[1;m\u001b[1;31m=\u001b[1;m\u001b[1;31m=\u001b[1;m\u001b[1;31m=\u001b[1;m\u001b[1;31m=\u001b[1;m\u001b[1;31m=\u001b[1;m\u001b[1;31m=\u001b[1;m\u001b[1;31m=\u001b[1;m\u001b[1;31m=\u001b[1;m\u001b[1;31m=\u001b[1;m\u001b[1;31m=\u001b[1;m\u001b[1;31m=\u001b[1;m\u001b[1;31m=\u001b[1;m\u001b[1;31m=\u001b[1;m\u001b[1;31m=\u001b[1;m\u001b[1;31m=\u001b[1;m\u001b[1;31m=\u001b[1;m\u001b[1;31m=\u001b[1;m\u001b[1;31m=\u001b[1;m\u001b[1;31m=\u001b[1;m\u001b[1;31m=\u001b[1;m\u001b[1;31m=\u001b[1;m\u001b[1;31m=\u001b[1;m\u001b[1;31m=\u001b[1;m\u001b[1;31m=\u001b[1;m\n",
      "\n",
      "Calculating Trip Duration...\n",
      "\n",
      "The total amount of time for a trip is: -95 days +19:00:00\n",
      "The average time of a trip is: 856.3921465417412\n",
      "\u001b[1;48m\n",
      "This took 0.025901079177856445 seconds.\u001b[1;m\n",
      "\u001b[1;31m=\u001b[1;m\u001b[1;31m=\u001b[1;m\u001b[1;31m=\u001b[1;m\u001b[1;31m=\u001b[1;m\u001b[1;31m=\u001b[1;m\u001b[1;31m=\u001b[1;m\u001b[1;31m=\u001b[1;m\u001b[1;31m=\u001b[1;m\u001b[1;31m=\u001b[1;m\u001b[1;31m=\u001b[1;m\u001b[1;31m=\u001b[1;m\u001b[1;31m=\u001b[1;m\u001b[1;31m=\u001b[1;m\u001b[1;31m=\u001b[1;m\u001b[1;31m=\u001b[1;m\u001b[1;31m=\u001b[1;m\u001b[1;31m=\u001b[1;m\u001b[1;31m=\u001b[1;m\u001b[1;31m=\u001b[1;m\u001b[1;31m=\u001b[1;m\u001b[1;31m=\u001b[1;m\u001b[1;31m=\u001b[1;m\u001b[1;31m=\u001b[1;m\u001b[1;31m=\u001b[1;m\u001b[1;31m=\u001b[1;m\u001b[1;31m=\u001b[1;m\u001b[1;31m=\u001b[1;m\u001b[1;31m=\u001b[1;m\u001b[1;31m=\u001b[1;m\u001b[1;31m=\u001b[1;m\u001b[1;31m=\u001b[1;m\u001b[1;31m=\u001b[1;m\u001b[1;31m=\u001b[1;m\u001b[1;31m=\u001b[1;m\u001b[1;31m=\u001b[1;m\u001b[1;31m=\u001b[1;m\u001b[1;31m=\u001b[1;m\u001b[1;31m=\u001b[1;m\u001b[1;31m=\u001b[1;m\u001b[1;31m=\u001b[1;m\n",
      "\n",
      "Calculating User Stats...\n",
      "\n",
      "Count of user types:  Subscriber    8617\n",
      "Customer       882\n",
      "Name: User Type, dtype: int64\n",
      "\u001b[1;34m-\u001b[1;m\u001b[1;34m-\u001b[1;m\u001b[1;34m-\u001b[1;m\u001b[1;34m-\u001b[1;m\u001b[1;34m-\u001b[1;m\u001b[1;34m-\u001b[1;m\u001b[1;34m-\u001b[1;m\u001b[1;34m-\u001b[1;m\u001b[1;34m-\u001b[1;m\u001b[1;34m-\u001b[1;m\u001b[1;34m-\u001b[1;m\u001b[1;34m-\u001b[1;m\u001b[1;34m-\u001b[1;m\u001b[1;34m-\u001b[1;m\u001b[1;34m-\u001b[1;m\u001b[1;34m-\u001b[1;m\u001b[1;34m-\u001b[1;m\u001b[1;34m-\u001b[1;m\u001b[1;34m-\u001b[1;m\u001b[1;34m-\u001b[1;m\n",
      "Count of gender:  Male      6467\n",
      "Female    2198\n",
      "Name: Gender, dtype: int64\n",
      "\u001b[1;34m-\u001b[1;m\u001b[1;34m-\u001b[1;m\u001b[1;34m-\u001b[1;m\u001b[1;34m-\u001b[1;m\u001b[1;34m-\u001b[1;m\u001b[1;34m-\u001b[1;m\u001b[1;34m-\u001b[1;m\u001b[1;34m-\u001b[1;m\u001b[1;34m-\u001b[1;m\u001b[1;34m-\u001b[1;m\u001b[1;34m-\u001b[1;m\u001b[1;34m-\u001b[1;m\u001b[1;34m-\u001b[1;m\u001b[1;34m-\u001b[1;m\u001b[1;34m-\u001b[1;m\u001b[1;34m-\u001b[1;m\u001b[1;34m-\u001b[1;m\u001b[1;34m-\u001b[1;m\u001b[1;34m-\u001b[1;m\u001b[1;34m-\u001b[1;m\n",
      "Oldest person to rent:  1893.0\n",
      "\u001b[1;34m-\u001b[1;m\u001b[1;34m-\u001b[1;m\u001b[1;34m-\u001b[1;m\u001b[1;34m-\u001b[1;m\u001b[1;34m-\u001b[1;m\u001b[1;34m-\u001b[1;m\u001b[1;34m-\u001b[1;m\u001b[1;34m-\u001b[1;m\u001b[1;34m-\u001b[1;m\u001b[1;34m-\u001b[1;m\u001b[1;34m-\u001b[1;m\u001b[1;34m-\u001b[1;m\u001b[1;34m-\u001b[1;m\u001b[1;34m-\u001b[1;m\u001b[1;34m-\u001b[1;m\u001b[1;34m-\u001b[1;m\u001b[1;34m-\u001b[1;m\u001b[1;34m-\u001b[1;m\u001b[1;34m-\u001b[1;m\u001b[1;34m-\u001b[1;m\n",
      "Most common birth year:  1986.0\n",
      "\u001b[1;34m-\u001b[1;m\u001b[1;34m-\u001b[1;m\u001b[1;34m-\u001b[1;m\u001b[1;34m-\u001b[1;m\u001b[1;34m-\u001b[1;m\u001b[1;34m-\u001b[1;m\u001b[1;34m-\u001b[1;m\u001b[1;34m-\u001b[1;m\u001b[1;34m-\u001b[1;m\u001b[1;34m-\u001b[1;m\u001b[1;34m-\u001b[1;m\u001b[1;34m-\u001b[1;m\u001b[1;34m-\u001b[1;m\u001b[1;34m-\u001b[1;m\u001b[1;34m-\u001b[1;m\u001b[1;34m-\u001b[1;m\u001b[1;34m-\u001b[1;m\u001b[1;34m-\u001b[1;m\u001b[1;34m-\u001b[1;m\u001b[1;34m-\u001b[1;m\n",
      "\n",
      "This took 0.020772695541381836 seconds.\n",
      "\u001b[1;31m=\u001b[1;m\u001b[1;31m=\u001b[1;m\u001b[1;31m=\u001b[1;m\u001b[1;31m=\u001b[1;m\u001b[1;31m=\u001b[1;m\u001b[1;31m=\u001b[1;m\u001b[1;31m=\u001b[1;m\u001b[1;31m=\u001b[1;m\u001b[1;31m=\u001b[1;m\u001b[1;31m=\u001b[1;m\u001b[1;31m=\u001b[1;m\u001b[1;31m=\u001b[1;m\u001b[1;31m=\u001b[1;m\u001b[1;31m=\u001b[1;m\u001b[1;31m=\u001b[1;m\u001b[1;31m=\u001b[1;m\u001b[1;31m=\u001b[1;m\u001b[1;31m=\u001b[1;m\u001b[1;31m=\u001b[1;m\u001b[1;31m=\u001b[1;m\u001b[1;31m=\u001b[1;m\u001b[1;31m=\u001b[1;m\u001b[1;31m=\u001b[1;m\u001b[1;31m=\u001b[1;m\u001b[1;31m=\u001b[1;m\u001b[1;31m=\u001b[1;m\u001b[1;31m=\u001b[1;m\u001b[1;31m=\u001b[1;m\u001b[1;31m=\u001b[1;m\u001b[1;31m=\u001b[1;m\u001b[1;31m=\u001b[1;m\u001b[1;31m=\u001b[1;m\u001b[1;31m=\u001b[1;m\u001b[1;31m=\u001b[1;m\u001b[1;31m=\u001b[1;m\u001b[1;31m=\u001b[1;m\u001b[1;31m=\u001b[1;m\u001b[1;31m=\u001b[1;m\u001b[1;31m=\u001b[1;m\u001b[1;31m=\u001b[1;m\n",
      "Would you like to see the next five rows of data? Yes or No: no\n",
      "Thank you for Exploring US Bikeshare Data\n",
      "\n",
      "Would you like to restart? Enter yes or no.\n",
      "no\n",
      "Thank you for Exploring US Bikeshare Data\n"
     ]
    }
   ],
   "source": [
    "#if __name__ == \"__main__\":\n",
    "main()"
   ]
  },
  {
   "cell_type": "code",
   "execution_count": null,
   "metadata": {},
   "outputs": [],
   "source": []
  },
  {
   "cell_type": "code",
   "execution_count": null,
   "metadata": {},
   "outputs": [],
   "source": []
  }
 ],
 "metadata": {
  "kernelspec": {
   "display_name": "Python 3",
   "language": "python",
   "name": "python3"
  },
  "language_info": {
   "codemirror_mode": {
    "name": "ipython",
    "version": 3
   },
   "file_extension": ".py",
   "mimetype": "text/x-python",
   "name": "python",
   "nbconvert_exporter": "python",
   "pygments_lexer": "ipython3",
   "version": "3.6.4"
  }
 },
 "nbformat": 4,
 "nbformat_minor": 2
}
